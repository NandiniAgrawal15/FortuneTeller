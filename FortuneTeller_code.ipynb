{
  "nbformat": 4,
  "nbformat_minor": 0,
  "metadata": {
    "colab": {
      "name": "3_Nandini_Agrawal_Assignment3.ipynb",
      "provenance": [],
      "collapsed_sections": [],
      "authorship_tag": "ABX9TyNwK/iiTaLbToc/9P2cx+nD",
      "include_colab_link": true
    },
    "kernelspec": {
      "name": "python3",
      "display_name": "Python 3"
    },
    "language_info": {
      "name": "python"
    }
  },
  "cells": [
    {
      "cell_type": "markdown",
      "metadata": {
        "id": "view-in-github",
        "colab_type": "text"
      },
      "source": [
        "<a href=\"https://colab.research.google.com/github/NandiniAgrawal15/FortuneTeller/blob/main/FortuneTeller_code.ipynb\" target=\"_parent\"><img src=\"https://colab.research.google.com/assets/colab-badge.svg\" alt=\"Open In Colab\"/></a>"
      ]
    },
    {
      "cell_type": "markdown",
      "metadata": {
        "id": "GPK9NwrToJbV"
      },
      "source": [
        "**Magic 8 balls**\n",
        "** FortuneTeller**\n",
        " Nandini_Agrawal \n"
      ]
    },
    {
      "cell_type": "code",
      "metadata": {
        "id": "P8wad0pdbnQm"
      },
      "source": [
        "import random"
      ],
      "execution_count": 1,
      "outputs": []
    },
    {
      "cell_type": "code",
      "metadata": {
        "id": "i71f8JY5cE7F",
        "colab": {
          "base_uri": "https://localhost:8080/"
        },
        "outputId": "2b7c5266-6ba1-4d43-c072-ae5b4cba76fb"
      },
      "source": [
        "ans=['You will get what you want','The success is forthcoming','You will meet your loved one',\n",
        "     'Your day will be pleasant','Be aware of the difficulties in your way to acheive your goal',\n",
        "     'Don\\'t worry everything will be fine','Ask again later','Surprises are waiting for you','Sorry! you day will not go that well',\n",
        "     ' No Answers today,Hope to see you again ','You will become a millionaire at the age of 35!','You will become famous and everyone will love you!',\n",
        "     'You will live a happy life for 100 years at least!','You\\'re lucky, You will have it all one day!','All your dreams will come true, just be patient!',\n",
        "     'You will become a successful doctor one day!','You will become a successful Engineer one day!','You will become very rich!','You will fall into a big hole!'\n",
        "     ,'You will get no homework tomorrow!']\n",
        "print(len(ans))"
      ],
      "execution_count": 2,
      "outputs": [
        {
          "output_type": "stream",
          "text": [
            "20\n"
          ],
          "name": "stdout"
        }
      ]
    },
    {
      "cell_type": "code",
      "metadata": {
        "id": "GqgfUuP3cFWT"
      },
      "source": [
        "def fortunateTeller():\n",
        "  print(\"\\033[1;30;47m Let's see what's there for you today\")\n",
        "  x=random.randint(0,19)\n",
        "  print(\"\\033[0;30;10m\\n\")\n",
        "  print(\"                            \\033[1;33;40m\",ans[x])"
      ],
      "execution_count": 3,
      "outputs": []
    },
    {
      "cell_type": "code",
      "metadata": {
        "id": "qRGCCLnPdjb2"
      },
      "source": [
        "print(\"\\033[1;33;10mWelcome to fortune teller!\")\n",
        "print(\"\\033[1;30;10mIt will be great to know your name\")\n",
        "name=input(\"Please enter your name \")\n",
        "print(\"\\033[1;32;10m                            Hello!\",name                          )\n",
        "while(1):\n",
        "  to_input=input(\"Do you want to play !!\")\n",
        "  if (to_input=='Yes')or (to_input=='yes')or (to_input=='1'):\n",
        "    fortunateTeller()\n",
        "  else:\n",
        "    print(\"\\033[0;34;10m                                       Nice to meet you!!!\")\n",
        "    break"
      ],
      "execution_count": null,
      "outputs": []
    },
    {
      "cell_type": "code",
      "metadata": {
        "id": "hsoLQQs7okd-"
      },
      "source": [
        ""
      ],
      "execution_count": null,
      "outputs": []
    }
  ]
}